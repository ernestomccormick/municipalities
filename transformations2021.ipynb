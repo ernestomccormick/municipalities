{
 "cells": [
  {
   "cell_type": "markdown",
   "metadata": {},
   "source": [
    "### 2021 CSD"
   ]
  },
  {
   "cell_type": "code",
   "execution_count": 3,
   "metadata": {},
   "outputs": [
    {
     "name": "stdout",
     "output_type": "stream",
     "text": [
      "[(2021, '2021A000011124', '01', 'Country', 'Canada', 3.1, 4.3, '20000', 1, 'Population, 2021', 1, 36991981.0, None, None, '...', None, '...', None, '...', None, '...', None, '...'), (2021, '2021A000011124', '01', 'Country', 'Canada', 3.1, 4.3, '20000', 2, 'Population, 2016', 1, 35151728.0, None, None, '...', None, '...', None, '...', None, '...', None, '...'), (2021, '2021A000011124', '01', 'Country', 'Canada', 3.1, 4.3, '20000', 3, 'Population percentage change, 2016 to 2021', None, 5.2, None, None, '...', None, '...', 5.2, None, None, '...', None, '...'), (2021, '2021A000011124', '01', 'Country', 'Canada', 3.1, 4.3, '20000', 4, 'Total private dwellings', 2, 16284235.0, None, None, '...', None, '...', None, '...', None, '...', None, '...'), (2021, '2021A000011124', '01', 'Country', 'Canada', 3.1, 4.3, '20000', 5, 'Private dwellings occupied by usual residents', 3, 14978941.0, None, None, '...', None, '...', None, '...', None, '...', None, '...')]\n"
     ]
    }
   ],
   "source": [
    "import duckdb\n",
    "\n",
    "# Path to your CSV file\n",
    "csv_file_path = '/home/mac/code/municipalities/u98-401-X2021005_English_CSV_data.csv'\n",
    "\n",
    "# Connect to DuckDB (it will create a database file in the current directory)\n",
    "conn = duckdb.connect('can.db')\n",
    "\n",
    "# Load CSV data into a DuckDB table\n",
    "conn.execute(f\"\"\"\n",
    "    CREATE TABLE csd2021 AS \n",
    "    SELECT * \n",
    "    FROM read_csv_auto('{csv_file_path}')\n",
    "\"\"\")\n",
    "\n",
    "# Verify that the table has been created and contains data\n",
    "result = conn.execute(\"SELECT * FROM csd2021 LIMIT 5\").fetchall()\n",
    "print(result)\n",
    "\n",
    "# Close the connection\n",
    "conn.close()"
   ]
  },
  {
   "cell_type": "markdown",
   "metadata": {},
   "source": [
    "conn = duckdb.connect('can.db')\n",
    "\n",
    "# Load CSV data into a DuckDB table\n",
    "conn.execute(f\"\"\"\n",
    "    DROP TABLE csd2021;\n",
    "\"\"\")\n",
    "\n",
    "# Close the connection\n",
    "conn.close()\n"
   ]
  },
  {
   "cell_type": "code",
   "execution_count": 5,
   "metadata": {},
   "outputs": [
    {
     "name": "stdout",
     "output_type": "stream",
     "text": [
      "DESCRIBE result:\n",
      "('CENSUS_YEAR', 'BIGINT', 'YES', None, None, None)\n",
      "('DGUID', 'VARCHAR', 'YES', None, None, None)\n",
      "('ALT_GEO_CODE', 'VARCHAR', 'YES', None, None, None)\n",
      "('GEO_LEVEL', 'VARCHAR', 'YES', None, None, None)\n",
      "('GEO_NAME', 'VARCHAR', 'YES', None, None, None)\n",
      "('TNR_SF', 'DOUBLE', 'YES', None, None, None)\n",
      "('TNR_LF', 'DOUBLE', 'YES', None, None, None)\n",
      "('DATA_QUALITY_FLAG', 'VARCHAR', 'YES', None, None, None)\n",
      "('CHARACTERISTIC_ID', 'BIGINT', 'YES', None, None, None)\n",
      "('CHARACTERISTIC_NAME', 'VARCHAR', 'YES', None, None, None)\n",
      "('CHARACTERISTIC_NOTE', 'BIGINT', 'YES', None, None, None)\n",
      "('C1_COUNT_TOTAL', 'DOUBLE', 'YES', None, None, None)\n",
      "('SYMBOL', 'VARCHAR', 'YES', None, None, None)\n",
      "('C2_COUNT_MEN+', 'DOUBLE', 'YES', None, None, None)\n",
      "('SYMBOL_1', 'VARCHAR', 'YES', None, None, None)\n",
      "('C3_COUNT_WOMEN+', 'DOUBLE', 'YES', None, None, None)\n",
      "('SYMBOL_2', 'VARCHAR', 'YES', None, None, None)\n",
      "('C10_RATE_TOTAL', 'DOUBLE', 'YES', None, None, None)\n",
      "('SYMBOL_3', 'VARCHAR', 'YES', None, None, None)\n",
      "('C11_RATE_MEN+', 'DOUBLE', 'YES', None, None, None)\n",
      "('SYMBOL_4', 'VARCHAR', 'YES', None, None, None)\n",
      "('C12_RATE_WOMEN+', 'DOUBLE', 'YES', None, None, None)\n",
      "('SYMBOL_5', 'VARCHAR', 'YES', None, None, None)\n"
     ]
    }
   ],
   "source": [
    "# Connect to the DuckDB database\n",
    "conn = duckdb.connect('can.db')\n",
    "\n",
    "# Use DESCRIBE to get the schema of the table\n",
    "describe_result = conn.execute(\"DESCRIBE csd2021\").fetchall()\n",
    "print(\"DESCRIBE result:\")\n",
    "for row in describe_result:\n",
    "    print(row)\n",
    "\n",
    "\n",
    "# Close the connection\n",
    "conn.close()"
   ]
  },
  {
   "cell_type": "markdown",
   "metadata": {},
   "source": [
    "# Connect to DuckDB (it will create a database file in the current directory)\n",
    "conn = duckdb.connect('can.db')\n",
    "\n",
    "\n",
    "# Verify that the table has been created and contains data\n",
    "result = conn.execute(\"\"\"SELECT * FROM csd2016 WHERE total  = 'x' LIMIT 5\"\"\").fetchall()\n",
    "print(result)\n",
    "\n",
    "# Close the connection\n",
    "conn.close()"
   ]
  }
 ],
 "metadata": {
  "kernelspec": {
   "display_name": "analytics",
   "language": "python",
   "name": "python3"
  },
  "language_info": {
   "codemirror_mode": {
    "name": "ipython",
    "version": 3
   },
   "file_extension": ".py",
   "mimetype": "text/x-python",
   "name": "python",
   "nbconvert_exporter": "python",
   "pygments_lexer": "ipython3",
   "version": "3.12.3"
  }
 },
 "nbformat": 4,
 "nbformat_minor": 2
}
