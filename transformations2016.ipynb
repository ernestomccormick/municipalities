{
 "cells": [
  {
   "cell_type": "markdown",
   "metadata": {},
   "source": [
    "### 2016 CSD"
   ]
  },
  {
   "cell_type": "code",
   "execution_count": 2,
   "metadata": {},
   "outputs": [
    {
     "name": "stdout",
     "output_type": "stream",
     "text": [
      "[(2016, '01', 0, 'Canada', 4.0, 5.1, '20000', ' ', '01', 'Population, 2016', 1, 1, '35151728', '...', '...'), (2016, '01', 0, 'Canada', 4.0, 5.1, '20000', ' ', '01', 'Population, 2011', 2, 2, '33476688', '...', '...'), (2016, '01', 0, 'Canada', 4.0, 5.1, '20000', ' ', '01', 'Population percentage change, 2011 to 2016', 3, None, '5.0', '...', '...'), (2016, '01', 0, 'Canada', 4.0, 5.1, '20000', ' ', '01', 'Total private dwellings', 4, 3, '15412443', '...', '...'), (2016, '01', 0, 'Canada', 4.0, 5.1, '20000', ' ', '01', 'Private dwellings occupied by usual residents', 5, 4, '14072079', '...', '...')]\n"
     ]
    }
   ],
   "source": [
    "import duckdb\n",
    "\n",
    "# Path to your CSV file\n",
    "csv_file_path = '/home/mac/code/municipalities/98-401-X2016055_English_CSV_data.csv'\n",
    "\n",
    "# Connect to DuckDB (it will create a database file in the current directory)\n",
    "conn = duckdb.connect('can.db')\n",
    "\n",
    "# Load CSV data into a DuckDB table\n",
    "conn.execute(f\"\"\"\n",
    "    DROP TABLE csd2016;\n",
    "    CREATE TABLE csd2016 AS \n",
    "    SELECT * \n",
    "    FROM read_csv_auto('{csv_file_path}')\n",
    "\"\"\")\n",
    "\n",
    "# Verify that the table has been created and contains data\n",
    "result = conn.execute(\"SELECT * FROM csd2016 LIMIT 5\").fetchall()\n",
    "print(result)\n",
    "\n",
    "# Close the connection\n",
    "conn.close()"
   ]
  },
  {
   "cell_type": "code",
   "execution_count": 3,
   "metadata": {},
   "outputs": [
    {
     "name": "stdout",
     "output_type": "stream",
     "text": [
      "DESCRIBE result:\n",
      "('CENSUS_YEAR', 'BIGINT', 'YES', None, None, None)\n",
      "('GEO_CODE (POR)', 'VARCHAR', 'YES', None, None, None)\n",
      "('GEO_LEVEL', 'BIGINT', 'YES', None, None, None)\n",
      "('GEO_NAME', 'VARCHAR', 'YES', None, None, None)\n",
      "('GNR', 'DOUBLE', 'YES', None, None, None)\n",
      "('GNR_LF', 'DOUBLE', 'YES', None, None, None)\n",
      "('DATA_QUALITY_FLAG', 'VARCHAR', 'YES', None, None, None)\n",
      "('CSD_TYPE_NAME', 'VARCHAR', 'YES', None, None, None)\n",
      "('ALT_GEO_CODE', 'VARCHAR', 'YES', None, None, None)\n",
      "('DIM: Profile of Census Divisions/Census Subdivisions (2247)', 'VARCHAR', 'YES', None, None, None)\n",
      "('Member ID: Profile of Census Divisions/Census Subdivisions (2247)', 'BIGINT', 'YES', None, None, None)\n",
      "('Notes: Profile of Census Divisions/Census Subdivisions (2247)', 'BIGINT', 'YES', None, None, None)\n",
      "('Dim: Sex (3): Member ID: [1]: Total - Sex', 'VARCHAR', 'YES', None, None, None)\n",
      "('Dim: Sex (3): Member ID: [2]: Male', 'VARCHAR', 'YES', None, None, None)\n",
      "('Dim: Sex (3): Member ID: [3]: Female', 'VARCHAR', 'YES', None, None, None)\n"
     ]
    }
   ],
   "source": [
    "# Connect to the DuckDB database\n",
    "conn = duckdb.connect('can.db')\n",
    "\n",
    "# Use DESCRIBE to get the schema of the table\n",
    "describe_result = conn.execute(\"DESCRIBE csd2016\").fetchall()\n",
    "print(\"DESCRIBE result:\")\n",
    "for row in describe_result:\n",
    "    print(row)\n",
    "\n",
    "\n",
    "# Close the connection\n",
    "conn.close()"
   ]
  },
  {
   "cell_type": "code",
   "execution_count": 4,
   "metadata": {},
   "outputs": [
    {
     "name": "stdout",
     "output_type": "stream",
     "text": [
      "DESCRIBE result:\n",
      "('CENSUS_YEAR', 'BIGINT', 'YES', None, None, None)\n",
      "('GEO_CODE (POR)', 'VARCHAR', 'YES', None, None, None)\n",
      "('GEO_LEVEL', 'BIGINT', 'YES', None, None, None)\n",
      "('GEO_NAME', 'VARCHAR', 'YES', None, None, None)\n",
      "('GNR', 'DOUBLE', 'YES', None, None, None)\n",
      "('GNR_LF', 'DOUBLE', 'YES', None, None, None)\n",
      "('DATA_QUALITY_FLAG', 'VARCHAR', 'YES', None, None, None)\n",
      "('CSD_TYPE_NAME', 'VARCHAR', 'YES', None, None, None)\n",
      "('ALT_GEO_CODE', 'VARCHAR', 'YES', None, None, None)\n",
      "('CHARACTERISTIC_NAME', 'VARCHAR', 'YES', None, None, None)\n",
      "('CHARACTERISTIC_ID', 'BIGINT', 'YES', None, None, None)\n",
      "('Notes', 'BIGINT', 'YES', None, None, None)\n",
      "('total', 'FLOAT', 'YES', None, None, None)\n",
      "('male', 'FLOAT', 'YES', None, None, None)\n",
      "('female', 'FLOAT', 'YES', None, None, None)\n"
     ]
    }
   ],
   "source": [
    "import duckdb\n",
    "\n",
    "# Connect to the DuckDB database\n",
    "conn = duckdb.connect('can.db')\n",
    "\n",
    "# Rename the columns\n",
    "conn.execute(\"\"\"\n",
    "    ALTER TABLE csd2016 RENAME COLUMN \"Dim: Sex (3): Member ID: [1]: Total - Sex\" TO total;\n",
    "    ALTER TABLE csd2016 RENAME COLUMN \"Dim: Sex (3): Member ID: [2]: Male\" TO male;\n",
    "    ALTER TABLE csd2016 RENAME COLUMN \"Dim: Sex (3): Member ID: [3]: Female\" TO female;\n",
    "    ALTER TABLE csd2016 RENAME COLUMN \"DIM: Profile of Census Divisions/Census Subdivisions (2247)\" TO CHARACTERISTIC_NAME;\n",
    "    ALTER TABLE csd2016 RENAME COLUMN \"Member ID: Profile of Census Divisions/Census Subdivisions (2247)\" TO CHARACTERISTIC_ID;\n",
    "    ALTER TABLE csd2016 RENAME COLUMN \"Notes: Profile of Census Divisions/Census Subdivisions (2247)\" TO Notes;\n",
    "\"\"\")\n",
    "\n",
    "# Update the values equal to character to 0\n",
    "conn.execute(\"\"\"\n",
    "    UPDATE csd2016\n",
    "    SET total = CASE WHEN total = 'x' THEN '0' ELSE total END,\n",
    "        male = CASE WHEN male = 'x' THEN '0' ELSE male END,\n",
    "        female = CASE WHEN female = 'x' THEN '0' ELSE female END\n",
    "\"\"\")\n",
    "\n",
    "conn.execute(\"\"\"\n",
    "    UPDATE csd2016\n",
    "    SET total = CASE WHEN total = '...' THEN '0' ELSE total END,\n",
    "        male = CASE WHEN male = '...' THEN '0' ELSE male END,\n",
    "        female = CASE WHEN female = '...' THEN '0' ELSE female END;\n",
    "\"\"\")\n",
    "\n",
    "conn.execute(\"\"\"\n",
    "    UPDATE csd2016\n",
    "    SET total = CASE WHEN total = 'F' THEN '0' ELSE total END,\n",
    "        male = CASE WHEN male = 'F' THEN '0' ELSE male END,\n",
    "        female = CASE WHEN female = 'F' THEN '0' ELSE female END;\n",
    "\"\"\")\n",
    "\n",
    "conn.execute(\"\"\"\n",
    "    UPDATE csd2016\n",
    "    SET total = CASE WHEN total = '..' THEN '0' ELSE total END,\n",
    "        male = CASE WHEN male = '..' THEN '0' ELSE male END,\n",
    "        female = CASE WHEN female = '..' THEN '0' ELSE female END;\n",
    "\"\"\")\n",
    "\n",
    "# Create a temporary table to cast the renamed columns to FLOAT\n",
    "conn.execute(\"\"\"\n",
    "    ALTER TABLE csd2016 ALTER total TYPE FLOAT;\n",
    "    ALTER TABLE csd2016 ALTER male TYPE FLOAT;\n",
    "    ALTER TABLE csd2016 ALTER female TYPE FLOAT;\n",
    "\"\"\")\n",
    "\n",
    "# Verify the changes\n",
    "\n",
    "# Use DESCRIBE to get the schema of the table\n",
    "describe_result = conn.execute(\"DESCRIBE csd2016\").fetchall()\n",
    "print(\"DESCRIBE result:\")\n",
    "for row in describe_result:\n",
    "    print(row)\n",
    "    \n",
    "# Close the connection\n",
    "conn.close()"
   ]
  },
  {
   "cell_type": "markdown",
   "metadata": {},
   "source": [
    "import duckdb\n",
    "conn = duckdb.connect('can.db')\n",
    "\n",
    "#### Load CSV data into a DuckDB table\n",
    "conn.execute(f\"\"\"\n",
    "    DROP TABLE csd2016;\n",
    "\"\"\")\n",
    "\n",
    "#### Close the connection\n",
    "conn.close()"
   ]
  }
 ],
 "metadata": {
  "kernelspec": {
   "display_name": "analytics",
   "language": "python",
   "name": "python3"
  },
  "language_info": {
   "codemirror_mode": {
    "name": "ipython",
    "version": 3
   },
   "file_extension": ".py",
   "mimetype": "text/x-python",
   "name": "python",
   "nbconvert_exporter": "python",
   "pygments_lexer": "ipython3",
   "version": "3.12.3"
  }
 },
 "nbformat": 4,
 "nbformat_minor": 2
}
