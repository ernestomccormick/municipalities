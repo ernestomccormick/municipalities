{
 "cells": [
  {
   "cell_type": "markdown",
   "metadata": {},
   "source": [
    "### 2021 CSD"
   ]
  },
  {
   "cell_type": "code",
   "execution_count": 36,
   "metadata": {},
   "outputs": [],
   "source": [
    "import duckdb\n",
    "import pandas\n",
    "\n",
    "# Connect to DuckDB (it will create a database file in the current directory)\n",
    "conn = duckdb.connect('can.db')\n",
    "\n",
    "# Load CSV data into a DuckDB table\n",
    "conn.execute(f\"\"\"\n",
    "    DROP TABLE csd2021_2016;\n",
    "    CREATE TABLE csd2021_2016 AS \n",
    "    SELECT CENSUS_YEAR,\n",
    "        ALT_GEO_CODE,\n",
    "        GEO_NAME,\n",
    "        CHARACTERISTIC_ID,\n",
    "        CHARACTERISTIC_NAME,\n",
    "        C1_COUNT_TOTAL,\n",
    "        C10_RATE_TOTAL ,\n",
    "    FROM csd2021\n",
    "    WHERE\n",
    "             ALT_GEO_CODE = 1102075\n",
    "             OR\n",
    "             ALT_GEO_CODE = 1209034\n",
    "             OR\n",
    "             ALT_GEO_CODE = 5917034\n",
    "             OR\n",
    "             ALT_GEO_CODE = 1310032\n",
    "             OR\n",
    "             ALT_GEO_CODE = 1307045\n",
    "             OR\n",
    "             ALT_GEO_CODE = 1307022\n",
    "             ;\n",
    "\"\"\")\n",
    "\n",
    "# Close the connection\n",
    "conn.close()"
   ]
  },
  {
   "cell_type": "code",
   "execution_count": 37,
   "metadata": {},
   "outputs": [
    {
     "name": "stdout",
     "output_type": "stream",
     "text": [
      "('Charlottetown, City (CY)',)\n",
      "('Halifax, Regional municipality (RGM)',)\n",
      "('Moncton, City (C)',)\n",
      "('Dieppe, City (C)',)\n",
      "('Fredericton, City (C)',)\n",
      "('Victoria, City (CY)',)\n",
      "['CENSUS_YEAR', 'ALT_GEO_CODE', 'GEO_NAME', 'CHARACTERISTIC_ID', 'CHARACTERISTIC_NAME', 'C1_COUNT_TOTAL', 'C10_RATE_TOTAL']\n"
     ]
    }
   ],
   "source": [
    "# Connect to the DuckDB database\n",
    "conn = duckdb.connect('can.db')\n",
    "\n",
    "result = conn.execute(\"SELECT DISTINCT GEO_NAME FROM csd2021_2016\").fetchall()\n",
    "for row in  result:\n",
    "    print(row)\n",
    "\n",
    "# SQL command to get the column names of csd2021_2016 table\n",
    "get_columns_query = \"\"\"\n",
    "PRAGMA table_info(csd2021_2016)\n",
    "\"\"\"\n",
    "\n",
    "# Execute the query\n",
    "result = conn.execute(get_columns_query).fetchall()\n",
    "\n",
    "# Extract and print the column names\n",
    "column_names = [row[1] for row in result]  # The second element in each row contains the column names\n",
    "print(column_names)\n",
    "\n",
    "\n",
    "# Close the connection\n",
    "conn.close()"
   ]
  },
  {
   "cell_type": "markdown",
   "metadata": {},
   "source": [
    "conn = duckdb.connect('can.db')\n",
    "\n",
    "# Load CSV data into a DuckDB table\n",
    "conn.execute(f\"\"\"\n",
    "    DROP TABLE csd2021;\n",
    "\"\"\")\n",
    "\n",
    "# Close the connection\n",
    "conn.close()\n"
   ]
  },
  {
   "cell_type": "code",
   "execution_count": 3,
   "metadata": {},
   "outputs": [
    {
     "name": "stdout",
     "output_type": "stream",
     "text": [
      "DESCRIBE result:\n",
      "('CENSUS_YEAR', 'BIGINT', 'YES', None, None, None)\n",
      "('DGUID', 'VARCHAR', 'YES', None, None, None)\n",
      "('ALT_GEO_CODE', 'VARCHAR', 'YES', None, None, None)\n",
      "('GEO_LEVEL', 'VARCHAR', 'YES', None, None, None)\n",
      "('GEO_NAME', 'VARCHAR', 'YES', None, None, None)\n",
      "('TNR_SF', 'DOUBLE', 'YES', None, None, None)\n",
      "('TNR_LF', 'DOUBLE', 'YES', None, None, None)\n",
      "('DATA_QUALITY_FLAG', 'VARCHAR', 'YES', None, None, None)\n",
      "('CHARACTERISTIC_ID', 'BIGINT', 'YES', None, None, None)\n",
      "('CHARACTERISTIC_NAME', 'VARCHAR', 'YES', None, None, None)\n",
      "('CHARACTERISTIC_NOTE', 'BIGINT', 'YES', None, None, None)\n",
      "('C1_COUNT_TOTAL', 'DOUBLE', 'YES', None, None, None)\n",
      "('SYMBOL', 'VARCHAR', 'YES', None, None, None)\n",
      "('C2_COUNT_MEN+', 'DOUBLE', 'YES', None, None, None)\n",
      "('SYMBOL_1', 'VARCHAR', 'YES', None, None, None)\n",
      "('C3_COUNT_WOMEN+', 'DOUBLE', 'YES', None, None, None)\n",
      "('SYMBOL_2', 'VARCHAR', 'YES', None, None, None)\n",
      "('C10_RATE_TOTAL', 'DOUBLE', 'YES', None, None, None)\n",
      "('SYMBOL_3', 'VARCHAR', 'YES', None, None, None)\n",
      "('C11_RATE_MEN+', 'DOUBLE', 'YES', None, None, None)\n",
      "('SYMBOL_4', 'VARCHAR', 'YES', None, None, None)\n",
      "('C12_RATE_WOMEN+', 'DOUBLE', 'YES', None, None, None)\n",
      "('SYMBOL_5', 'VARCHAR', 'YES', None, None, None)\n"
     ]
    }
   ],
   "source": [
    "# Connect to the DuckDB database\n",
    "conn = duckdb.connect('can.db')\n",
    "\n",
    "# Use DESCRIBE to get the schema of the table\n",
    "describe_result = conn.execute(\"DESCRIBE csd2021\").fetchall()\n",
    "print(\"DESCRIBE result:\")\n",
    "for row in describe_result:\n",
    "    print(row)\n",
    "\n",
    "\n",
    "# Close the connection\n",
    "conn.close()"
   ]
  }
 ],
 "metadata": {
  "kernelspec": {
   "display_name": "analytics",
   "language": "python",
   "name": "python3"
  },
  "language_info": {
   "codemirror_mode": {
    "name": "ipython",
    "version": 3
   },
   "file_extension": ".py",
   "mimetype": "text/x-python",
   "name": "python",
   "nbconvert_exporter": "python",
   "pygments_lexer": "ipython3",
   "version": "3.12.3"
  }
 },
 "nbformat": 4,
 "nbformat_minor": 2
}
