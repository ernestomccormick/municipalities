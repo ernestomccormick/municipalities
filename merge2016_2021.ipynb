{
 "cells": [
  {
   "cell_type": "markdown",
   "metadata": {},
   "source": [
    "### 2021 CSD"
   ]
  },
  {
   "cell_type": "code",
   "execution_count": 23,
   "metadata": {},
   "outputs": [],
   "source": [
    "import duckdb\n",
    "import pandas\n",
    "\n",
    "# Connect to DuckDB (it will create a database file in the current directory)\n",
    "conn = duckdb.connect('can.db')\n",
    "\n",
    "# Load CSV data into a DuckDB table\n",
    "conn.execute(f\"\"\"\n",
    "    DROP TABLE csd2021_2016;\n",
    "    CREATE TABLE csd2021_2016 AS \n",
    "    SELECT CENSUS_YEAR,\n",
    "        ALT_GEO_CODE,\n",
    "        GEO_NAME,\n",
    "        CHARACTERISTIC_ID,\n",
    "        CHARACTERISTIC_NAME,\n",
    "        C1_COUNT_TOTAL,\n",
    "        C10_RATE_TOTAL ,\n",
    "    FROM csd2021\n",
    "    WHERE\n",
    "             ALT_GEO_CODE = 1102075\n",
    "             OR\n",
    "             ALT_GEO_CODE = 1209034\n",
    "             OR\n",
    "             ALT_GEO_CODE = 5917034\n",
    "             OR\n",
    "             ALT_GEO_CODE = 1310032\n",
    "             OR\n",
    "             ALT_GEO_CODE = 1307045\n",
    "             OR\n",
    "             ALT_GEO_CODE = 1307022\n",
    "             ;\n",
    "\"\"\")\n",
    "\n",
    "# Close the connection\n",
    "conn.close()"
   ]
  },
  {
   "cell_type": "code",
   "execution_count": 24,
   "metadata": {},
   "outputs": [
    {
     "name": "stdout",
     "output_type": "stream",
     "text": [
      "('Charlottetown, City (CY)',)\n",
      "('Halifax, Regional municipality (RGM)',)\n",
      "('Moncton, City (C)',)\n",
      "('Dieppe, City (C)',)\n",
      "('Fredericton, City (C)',)\n",
      "('Victoria, City (CY)',)\n",
      "['CENSUS_YEAR', 'ALT_GEO_CODE', 'GEO_NAME', 'CHARACTERISTIC_ID', 'CHARACTERISTIC_NAME', 'C1_COUNT_TOTAL', 'C10_RATE_TOTAL']\n",
      "[(2021, '2021A000011124', '01', 'Country', 'Canada', 3.1, 4.3, '20000', 1, 'Population, 2021', 1, 36991981.0, None, None, '...', None, '...', None, '...', None, '...', None, '...'), (2021, '2021A000011124', '01', 'Country', 'Canada', 3.1, 4.3, '20000', 2, 'Population, 2016', 1, 35151728.0, None, None, '...', None, '...', None, '...', None, '...', None, '...')]\n"
     ]
    }
   ],
   "source": [
    "# Connect to the DuckDB database\n",
    "conn = duckdb.connect('can.db')\n",
    "\n",
    "result = conn.execute(\"SELECT DISTINCT GEO_NAME FROM csd2021_2016\").fetchall()\n",
    "for row in  result:\n",
    "    print(row)\n",
    "\n",
    "# SQL command to get the column names of csd2021_2016 table\n",
    "get_columns_query = \"\"\"\n",
    "PRAGMA table_info(csd2021_2016)\n",
    "\"\"\"\n",
    "\n",
    "# Execute the query\n",
    "result = conn.execute(get_columns_query).fetchall()\n",
    "\n",
    "# Extract and print the column names\n",
    "column_names = [row[1] for row in result]  # The second element in each row contains the column names\n",
    "print(column_names)\n",
    "\n",
    "# Verify that the table has been created and contains data\n",
    "result = conn.execute(\"SELECT * FROM csd2021 LIMIT 2\").fetchall()\n",
    "print(result)\n",
    "\n",
    "\n",
    "# Close the connection\n",
    "conn.close()"
   ]
  },
  {
   "cell_type": "markdown",
   "metadata": {},
   "source": [
    "# 2016"
   ]
  },
  {
   "cell_type": "code",
   "execution_count": 25,
   "metadata": {},
   "outputs": [
    {
     "name": "stdout",
     "output_type": "stream",
     "text": [
      "result:\n",
      "(2016, '1102075', 'Charlottetown', 1, 'Population, 2016', 36094.0, None)\n",
      "(2016, '1102075', 'Charlottetown', 2, 'Population, 2011', 34562.0, None)\n",
      "(2016, '1102075', 'Charlottetown', 3, 'Population percentage change, 2011 to 2016', 4.400000095367432, None)\n",
      "(2016, '1102075', 'Charlottetown', 4, 'Total private dwellings', 17193.0, None)\n",
      "(2016, '1102075', 'Charlottetown', 5, 'Private dwellings occupied by usual residents', 16100.0, None)\n",
      "(2016, '1102075', 'Charlottetown', 6, 'Population density per square kilometre', 814.0999755859375, None)\n",
      "(2016, '1102075', 'Charlottetown', 7, 'Land area in square kilometres', 44.34000015258789, None)\n",
      "(2016, '1102075', 'Charlottetown', 8, 'Total - Age groups and average age of the population - 100% data', 36095.0, None)\n",
      "(2016, '1102075', 'Charlottetown', 9, '0 to 14 years', 5010.0, None)\n",
      "(2016, '1102075', 'Charlottetown', 10, '0 to 4 years', 1585.0, None)\n"
     ]
    }
   ],
   "source": [
    "import duckdb\n",
    "\n",
    "# Connect to the DuckDB database\n",
    "conn = duckdb.connect(database='can.db')\n",
    "\n",
    "# SQL query to fetch the required data\n",
    "fetch_query = \"\"\"\n",
    "SELECT\n",
    "    CENSUS_YEAR,\n",
    "    ALT_GEO_CODE,\n",
    "    GEO_NAME,\n",
    "    CHARACTERISTIC_ID, \n",
    "    CHARACTERISTIC_NAME,\n",
    "    total AS C1_COUNT_TOTAL\n",
    "FROM csd2016\n",
    "WHERE ALT_GEO_CODE IN (1102075, 1209034, 5917034, 1310032, 1307045, 1307022)\n",
    "\"\"\"\n",
    "\n",
    "# Fetch the data\n",
    "data = conn.execute(fetch_query).fetchall()\n",
    "\n",
    "# Use a bulk insert statement\n",
    "insert_query = \"\"\"\n",
    "INSERT INTO csd2021_2016 (CENSUS_YEAR, ALT_GEO_CODE, GEO_NAME, CHARACTERISTIC_ID, CHARACTERISTIC_NAME, C1_COUNT_TOTAL)\n",
    "VALUES (?, ?, ?, ?, ?, ?)\n",
    "\"\"\"\n",
    "\n",
    "# Execute the insertion for the entire batch of data\n",
    "conn.executemany(insert_query, data)\n",
    "\n",
    "# Verify the insertion\n",
    "verify_query = \"\"\"\n",
    "SELECT *\n",
    "FROM csd2021_2016\n",
    "WHERE CENSUS_YEAR = 2016\n",
    "LIMIT 10\n",
    "\"\"\"\n",
    "result = conn.execute(verify_query).fetchall()\n",
    "print(\"result:\")\n",
    "for row in result:\n",
    "    print(row)\n",
    "\n",
    "# Close the connection\n",
    "conn.close()\n",
    "\n"
   ]
  },
  {
   "cell_type": "code",
   "execution_count": 26,
   "metadata": {},
   "outputs": [
    {
     "name": "stdout",
     "output_type": "stream",
     "text": [
      "[(1, 1, 'Population, 2021', 'Population', 'Population and dwellings'), (9, 9, '0 to 14 years', '0 à 14 ans', 'Age characteristics')]\n",
      "DESCRIBE result:\n",
      "('c2016', 'BIGINT', 'YES', None, None, None)\n",
      "('c2021', 'BIGINT', 'YES', None, None, None)\n",
      "('Characteristic', 'VARCHAR', 'YES', None, None, None)\n",
      "('Caractéristique', 'VARCHAR', 'YES', None, None, None)\n",
      "('Topic', 'VARCHAR', 'YES', None, None, None)\n"
     ]
    }
   ],
   "source": [
    "# Path to your CSV file\n",
    "csv_file_path = '/home/mac/code/municipalities/2016-2021-correspondance.csv'\n",
    "\n",
    "# Connect to DuckDB (it will create a database file in the current directory)\n",
    "conn = duckdb.connect('can.db')\n",
    "\n",
    "# Load CSV data into a DuckDB table\n",
    "conn.execute(f\"\"\"\n",
    "    DROP TABLE char1621;\n",
    "    CREATE TABLE char1621 AS \n",
    "    SELECT * \n",
    "    FROM read_csv_auto('{csv_file_path}')\n",
    "\"\"\")\n",
    "\n",
    "# Verify that the table has been created and contains data\n",
    "result = conn.execute(\"SELECT * FROM char1621 LIMIT 2\").fetchall()\n",
    "print(result)\n",
    "\n",
    "# Use DESCRIBE to get the schema of the table\n",
    "describe_result = conn.execute(\"DESCRIBE char1621\").fetchall()\n",
    "print(\"DESCRIBE result:\")\n",
    "for row in describe_result:\n",
    "    print(row)\n",
    "\n",
    "# Close the connection\n",
    "conn.close()"
   ]
  },
  {
   "cell_type": "markdown",
   "metadata": {},
   "source": [
    "Duplicates\n",
    "\n",
    "SELECT c2016\n",
    "FROM can.main.char1621\n",
    "GROUP BY c2016\n",
    "HAVING COUNT(c2016) > 1;"
   ]
  },
  {
   "cell_type": "code",
   "execution_count": 27,
   "metadata": {},
   "outputs": [
    {
     "name": "stdout",
     "output_type": "stream",
     "text": [
      "[(2016, '1102075', 'Charlottetown', 1, 'Population, 2021', 36094.0, None, 1, 'Population and dwellings'), (2016, '1102075', 'Charlottetown', 2, None, 34562.0, None, None, None)]\n",
      "DESCRIBE result:\n",
      "('CENSUS_YEAR', 'BIGINT', 'YES', None, None, None)\n",
      "('ALT_GEO_CODE', 'VARCHAR', 'YES', None, None, None)\n",
      "('GEO_NAME', 'VARCHAR', 'YES', None, None, None)\n",
      "('CHARACTERISTIC_ID', 'BIGINT', 'YES', None, None, None)\n",
      "('CHARACTERISTIC_NAME', 'VARCHAR', 'YES', None, None, None)\n",
      "('C1_COUNT_TOTAL', 'DOUBLE', 'YES', None, None, None)\n",
      "('C10_RATE_TOTAL', 'DOUBLE', 'YES', None, None, None)\n",
      "('char2021', 'BIGINT', 'YES', None, None, None)\n",
      "('TOPIC', 'VARCHAR', 'YES', None, None, None)\n"
     ]
    }
   ],
   "source": [
    "# Connect to the DuckDB database\n",
    "conn = duckdb.connect(database='can.db')\n",
    "\n",
    "# Add the new columns and perform the updates\n",
    "conn.execute(\"\"\"\n",
    "    ALTER TABLE csd2021_2016\n",
    "    ADD COLUMN char2021 BIGINT;\n",
    "\"\"\")\n",
    "conn.execute(\"\"\"\n",
    "    ALTER TABLE csd2021_2016\n",
    "    ADD COLUMN TOPIC TEXT;\n",
    "\"\"\")\n",
    "conn.execute(\"\"\"\n",
    "    UPDATE csd2021_2016\n",
    "    SET char2021 = CASE \n",
    "        WHEN CENSUS_YEAR = 2021 THEN CHARACTERISTIC_ID\n",
    "        WHEN CENSUS_YEAR = 2016 THEN (\n",
    "            SELECT char1621.c2021\n",
    "            FROM char1621\n",
    "            WHERE char1621.c2016 = csd2021_2016.CHARACTERISTIC_ID\n",
    "        )\n",
    "    END;\n",
    "\"\"\")\n",
    "conn.execute(\"\"\"\n",
    "    UPDATE csd2021_2016\n",
    "    SET CHARACTERISTIC_NAME = CASE \n",
    "        WHEN CENSUS_YEAR = 2016 THEN (\n",
    "            SELECT char1621.Characteristic\n",
    "            FROM char1621\n",
    "            WHERE char1621.c2016 = csd2021_2016.CHARACTERISTIC_ID\n",
    "        )\n",
    "        ELSE CHARACTERISTIC_NAME\n",
    "    END;\n",
    "\"\"\")\n",
    "conn.execute(\"\"\"         \n",
    "    UPDATE csd2021_2016\n",
    "    SET TOPIC = (\n",
    "        SELECT char1621.Topic\n",
    "        FROM char1621\n",
    "        WHERE char1621.c2021 = csd2021_2016.char2021\n",
    "    );\n",
    "\"\"\")\n",
    "\n",
    "\n",
    "\n",
    "# Verify that the table has been created and contains data\n",
    "result = conn.execute(\"SELECT * FROM csd2021_2016 WHERE CENSUS_YEAR = 2016 LIMIT 2\").fetchall()\n",
    "print(result)\n",
    "\n",
    "# Use DESCRIBE to get the schema of the table\n",
    "describe_result = conn.execute(\"DESCRIBE csd2021_2016\").fetchall()\n",
    "print(\"DESCRIBE result:\")\n",
    "for row in describe_result:\n",
    "    print(row)\n",
    "\n",
    "# Close the connection\n",
    "conn.close()"
   ]
  },
  {
   "cell_type": "code",
   "execution_count": 28,
   "metadata": {},
   "outputs": [],
   "source": [
    "# Connect to the DuckDB database\n",
    "conn = duckdb.connect(database='can.db')\n",
    "\n",
    "# Remove specified substrings from the GEO_NAME column\n",
    "conn.execute(\"\"\"\n",
    "    UPDATE csd2021_2016\n",
    "    SET GEO_NAME = REPLACE(REPLACE(REPLACE(GEO_NAME, ', City (C)', ''), ', City (CY)', ''), ', Regional municipality (RGM)', '');\n",
    "\"\"\")\n",
    "\n",
    "# Close the connection\n",
    "conn.close()"
   ]
  },
  {
   "cell_type": "code",
   "execution_count": 29,
   "metadata": {},
   "outputs": [],
   "source": [
    "# Connect to the DuckDB database\n",
    "conn = duckdb.connect(database='can.db')\n",
    "\n",
    "conn.execute(\"\"\"\n",
    "    ALTER TABLE csd2021_2016\n",
    "    ADD COLUMN census_date DATE\n",
    "\"\"\")\n",
    "conn.execute(\"\"\"\n",
    "    UPDATE csd2021_2016\n",
    "    SET census_date = MAKE_DATE(CENSUS_YEAR, 1, 1)\n",
    "\"\"\")\n",
    "\n",
    "\n",
    "# Close the connection\n",
    "conn.close()\n",
    "\n"
   ]
  }
 ],
 "metadata": {
  "kernelspec": {
   "display_name": "analytics",
   "language": "python",
   "name": "python3"
  },
  "language_info": {
   "codemirror_mode": {
    "name": "ipython",
    "version": 3
   },
   "file_extension": ".py",
   "mimetype": "text/x-python",
   "name": "python",
   "nbconvert_exporter": "python",
   "pygments_lexer": "ipython3",
   "version": "3.12.3"
  }
 },
 "nbformat": 4,
 "nbformat_minor": 2
}
