{
 "cells": [
  {
   "cell_type": "markdown",
   "metadata": {},
   "source": [
    "### 2011 CSD"
   ]
  },
  {
   "cell_type": "code",
   "execution_count": 1,
   "metadata": {},
   "outputs": [
    {
     "name": "stdout",
     "output_type": "stream",
     "text": [
      "[(1001101, 'Newfoundland and Labrador', 'Division No.  1', 'Division No.  1, Subd. V', 'Subdivision of unorganized', 'Population and dwelling counts', 'Population in 2011', 1, 62.0, None, None, '...', None, '...'), (1001101, 'Newfoundland and Labrador', 'Division No.  1', 'Division No.  1, Subd. V', 'Subdivision of unorganized', 'Population and dwelling counts', 'Population in 2006', 1, 65.0, None, None, '...', None, '...'), (1001101, 'Newfoundland and Labrador', 'Division No.  1', 'Division No.  1, Subd. V', 'Subdivision of unorganized', 'Population and dwelling counts', '2006 to 2011 population change (%)', None, -4.6, None, None, '...', None, '...'), (1001101, 'Newfoundland and Labrador', 'Division No.  1', 'Division No.  1, Subd. V', 'Subdivision of unorganized', 'Population and dwelling counts', 'Total private dwellings', 2, 83.0, None, None, '...', None, '...'), (1001101, 'Newfoundland and Labrador', 'Division No.  1', 'Division No.  1, Subd. V', 'Subdivision of unorganized', 'Population and dwelling counts', 'Private dwellings occupied by usual residents', 3, 28.0, None, None, '...', None, '...')]\n"
     ]
    }
   ],
   "source": [
    "import duckdb\n",
    "\n",
    "# Path to your CSV file\n",
    "csv_file_path = '/home/mac/code/municipalities/u98-316-XWE2011001-301.csv'\n",
    "\n",
    "# Connect to DuckDB (it will create a database file in the current directory)\n",
    "conn = duckdb.connect('can.db')\n",
    "\n",
    "# Load CSV data into a DuckDB table\n",
    "conn.execute(f\"\"\"\n",
    "    CREATE TABLE csd2011 AS \n",
    "    SELECT * \n",
    "    FROM read_csv_auto('{csv_file_path}')\n",
    "\"\"\")\n",
    "\n",
    "# Verify that the table has been created and contains data\n",
    "result = conn.execute(\"SELECT * FROM csd2011 LIMIT 5\").fetchall()\n",
    "print(result)\n",
    "\n",
    "# Close the connection\n",
    "conn.close()"
   ]
  },
  {
   "cell_type": "markdown",
   "metadata": {},
   "source": [
    "conn = duckdb.connect('can.db')\n",
    "\n",
    "# Load CSV data into a DuckDB table\n",
    "conn.execute(f\"\"\"\n",
    "    DROP TABLE csd2021;\n",
    "\"\"\")\n",
    "\n",
    "# Close the connection\n",
    "conn.close()\n"
   ]
  },
  {
   "cell_type": "code",
   "execution_count": 2,
   "metadata": {},
   "outputs": [
    {
     "name": "stdout",
     "output_type": "stream",
     "text": [
      "DESCRIBE result:\n",
      "('Geo_Code', 'BIGINT', 'YES', None, None, None)\n",
      "('Prov_Name', 'VARCHAR', 'YES', None, None, None)\n",
      "('CD_Name', 'VARCHAR', 'YES', None, None, None)\n",
      "('CSD_Name', 'VARCHAR', 'YES', None, None, None)\n",
      "('CSD_Type', 'VARCHAR', 'YES', None, None, None)\n",
      "('Topic', 'VARCHAR', 'YES', None, None, None)\n",
      "('Characteristics', 'VARCHAR', 'YES', None, None, None)\n",
      "('Note', 'BIGINT', 'YES', None, None, None)\n",
      "('Total', 'DOUBLE', 'YES', None, None, None)\n",
      "('Flag_Total', 'VARCHAR', 'YES', None, None, None)\n",
      "('Male', 'DOUBLE', 'YES', None, None, None)\n",
      "('Flag_Male', 'VARCHAR', 'YES', None, None, None)\n",
      "('Female', 'DOUBLE', 'YES', None, None, None)\n",
      "('Flag_Female', 'VARCHAR', 'YES', None, None, None)\n"
     ]
    }
   ],
   "source": [
    "# Connect to the DuckDB database\n",
    "conn = duckdb.connect('can.db')\n",
    "\n",
    "# Use DESCRIBE to get the schema of the table\n",
    "describe_result = conn.execute(\"DESCRIBE csd2011\").fetchall()\n",
    "print(\"DESCRIBE result:\")\n",
    "for row in describe_result:\n",
    "    print(row)\n",
    "\n",
    "\n",
    "# Close the connection\n",
    "conn.close()"
   ]
  },
  {
   "cell_type": "markdown",
   "metadata": {},
   "source": [
    "# Connect to the DuckDB database\n",
    "conn = duckdb.connect('can.db')\n",
    "\n",
    "# Rename the columns\n",
    "conn.execute(\"\"\"\n",
    "    ALTER TABLE csd2016 RENAME COLUMN \"Dim: Sex (3): Member ID: [1]: Total - Sex\" TO total;\n",
    "    ALTER TABLE csd2016 RENAME COLUMN \"Dim: Sex (3): Member ID: [2]: Male\" TO male;\n",
    "    ALTER TABLE csd2016 RENAME COLUMN \"Dim: Sex (3): Member ID: [3]: Female\" TO female;\n",
    "\"\"\")\n",
    "\n",
    "# Update the values equal to character to 0\n",
    "conn.execute(\"\"\"\n",
    "    UPDATE csd2016\n",
    "    SET total = CASE WHEN total = 'x' THEN '0' ELSE total END,\n",
    "        male = CASE WHEN male = 'x' THEN '0' ELSE male END,\n",
    "        female = CASE WHEN female = 'x' THEN '0' ELSE female END\n",
    "\"\"\")\n",
    "\n",
    "conn.execute(\"\"\"\n",
    "    UPDATE csd2016\n",
    "    SET total = CASE WHEN total = '...' THEN '0' ELSE total END,\n",
    "        male = CASE WHEN male = '...' THEN '0' ELSE male END,\n",
    "        female = CASE WHEN female = '...' THEN '0' ELSE female END;\n",
    "\"\"\")\n",
    "\n",
    "conn.execute(\"\"\"\n",
    "    UPDATE csd2016\n",
    "    SET total = CASE WHEN total = 'F' THEN '0' ELSE total END,\n",
    "        male = CASE WHEN male = 'F' THEN '0' ELSE male END,\n",
    "        female = CASE WHEN female = 'F' THEN '0' ELSE female END;\n",
    "\"\"\")\n",
    "\n",
    "conn.execute(\"\"\"\n",
    "    UPDATE csd2016\n",
    "    SET total = CASE WHEN total = '..' THEN '0' ELSE total END,\n",
    "        male = CASE WHEN male = '..' THEN '0' ELSE male END,\n",
    "        female = CASE WHEN female = '..' THEN '0' ELSE female END;\n",
    "\"\"\")\n",
    "\n",
    "# Create a temporary table to cast the renamed columns to FLOAT\n",
    "conn.execute(\"\"\"\n",
    "    ALTER TABLE csd2016 ALTER total TYPE FLOAT;\n",
    "    ALTER TABLE csd2016 ALTER male TYPE FLOAT;\n",
    "    ALTER TABLE csd2016 ALTER female TYPE FLOAT;\n",
    "\"\"\")\n",
    "\n",
    "# Verify the changes\n",
    "\n",
    "# Use DESCRIBE to get the schema of the table\n",
    "describe_result = conn.execute(\"DESCRIBE csd2016\").fetchall()\n",
    "print(\"DESCRIBE result:\")\n",
    "for row in describe_result:\n",
    "    print(row)\n",
    "    \n",
    "# Close the connection\n",
    "conn.close()"
   ]
  }
 ],
 "metadata": {
  "kernelspec": {
   "display_name": "analytics",
   "language": "python",
   "name": "python3"
  },
  "language_info": {
   "codemirror_mode": {
    "name": "ipython",
    "version": 3
   },
   "file_extension": ".py",
   "mimetype": "text/x-python",
   "name": "python",
   "nbconvert_exporter": "python",
   "pygments_lexer": "ipython3",
   "version": "3.12.3"
  }
 },
 "nbformat": 4,
 "nbformat_minor": 2
}
